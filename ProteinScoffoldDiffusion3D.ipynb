{
 "cells": [
  {
   "cell_type": "code",
   "execution_count": 3,
   "id": "672146e6",
   "metadata": {},
   "outputs": [
    {
     "name": "stdout",
     "output_type": "stream",
     "text": [
      "DataLoader created successfully.\n",
      "Number of samples: 1096\n",
      "Number of batches: 548\n",
      "DataLoader is empty. Check if .npy files exist in the specified directory.\n"
     ]
    }
   ],
   "source": [
    "import torch\n",
    "from torch.utils.data import Dataset, DataLoader\n",
    "import numpy as np\n",
    "import os\n",
    "import glob\n",
    "\n",
    "import torchvision.transforms as transforms\n",
    "\n",
    "class NpyImageDataset(Dataset):\n",
    "    \"\"\"Dataset for loading images stored as .npy files.\"\"\"\n",
    "    def __init__(self, data_dir, transform=None):\n",
    "        \"\"\"\n",
    "        Args:\n",
    "            data_dir (string): Directory with all the .npy files.\n",
    "            transform (callable, optional): Optional transform to be applied\n",
    "                on a sample.\n",
    "        \"\"\"\n",
    "        self.data_dir = data_dir\n",
    "        self.file_paths = glob.glob(os.path.join(data_dir, '*.npy'))\n",
    "        self.transform = transform\n",
    "\n",
    "    def __len__(self):\n",
    "        return len(self.file_paths)\n",
    "\n",
    "    def __getitem__(self, idx):\n",
    "        if torch.is_tensor(idx):\n",
    "            idx = idx.tolist()\n",
    "\n",
    "        img_path = self.file_paths[idx]\n",
    "        # Load image data from .npy file (assuming HxWxC format, values 0-1)\n",
    "        image = np.load(img_path).astype(np.float32)\n",
    "\n",
    "        print(image.shape)\n",
    "        # Convert numpy array to PyTorch tensor\n",
    "        image = torch.from_numpy(image)\n",
    "\n",
    "        # Permute dimensions from HxWxC to CxHxW\n",
    "        image = image.permute(2, 0, 1)\n",
    "\n",
    "        if self.transform:\n",
    "            image = self.transform(image)\n",
    "\n",
    "        return image\n",
    "\n",
    "# Define the normalization transform (0, 1) -> (-1, 1)\n",
    "# y = 2x - 1\n",
    "normalize_transform = transforms.Lambda(lambda x: x * 2.0 - 1.0)\n",
    "\n",
    "# --- Configuration ---\n",
    "DATA_DIRECTORY = r'D:\\pdbFiles\\imgs2' # Replace with the actual path to your .npy files\n",
    "BATCH_SIZE = 2\n",
    "NUM_WORKERS = 0 # Adjust based on your system\n",
    "\n",
    "# --- Create Dataset and DataLoader ---\n",
    "\n",
    "\n",
    "\n",
    "\n",
    " \n",
    "image_dataset = NpyImageDataset(data_dir=DATA_DIRECTORY, transform=normalize_transform)\n",
    "\n",
    "# Create the DataLoader\n",
    "image_dataloader = DataLoader(image_dataset,\n",
    "                            batch_size=BATCH_SIZE,\n",
    "                            shuffle=True,\n",
    "                            num_workers=NUM_WORKERS)\n",
    "\n",
    "print(f\"DataLoader created successfully.\")\n",
    "print(f\"Number of samples: {len(image_dataset)}\")\n",
    "print(f\"Number of batches: {len(image_dataloader)}\")\n",
    "\n",
    "# Example: Iterate over one batch to check\n",
    "if len(image_dataloader) > 0 and False:\n",
    "    first_batch = next(iter(image_dataloader))\n",
    "    print(f\"Shape of the first batch: {first_batch.shape}\")\n",
    "    print(f\"Data range (min, max): ({first_batch.min().item():.2f}, {first_batch.max().item():.2f})\")\n",
    "else:\n",
    "    print(\"DataLoader is empty. Check if .npy files exist in the specified directory.\")\n",
    "\n",
    " \n"
   ]
  },
  {
   "cell_type": "code",
   "execution_count": 4,
   "id": "2110d053",
   "metadata": {},
   "outputs": [
    {
     "name": "stdout",
     "output_type": "stream",
     "text": [
      "(128, 128)\n"
     ]
    },
    {
     "ename": "RuntimeError",
     "evalue": "permute(sparse_coo): number of dimensions in the tensor input does not match the length of the desired ordering of dimensions i.e. input.dim() = 2 is not equal to len(dims) = 3",
     "output_type": "error",
     "traceback": [
      "\u001b[1;31m---------------------------------------------------------------------------\u001b[0m",
      "\u001b[1;31mRuntimeError\u001b[0m                              Traceback (most recent call last)",
      "Cell \u001b[1;32mIn[4], line 1\u001b[0m\n\u001b[1;32m----> 1\u001b[0m \u001b[43mimage_dataset\u001b[49m\u001b[43m[\u001b[49m\u001b[38;5;241;43m0\u001b[39;49m\u001b[43m]\u001b[49m\n",
      "Cell \u001b[1;32mIn[3], line 38\u001b[0m, in \u001b[0;36mNpyImageDataset.__getitem__\u001b[1;34m(self, idx)\u001b[0m\n\u001b[0;32m     35\u001b[0m image \u001b[38;5;241m=\u001b[39m torch\u001b[38;5;241m.\u001b[39mfrom_numpy(image)\n\u001b[0;32m     37\u001b[0m \u001b[38;5;66;03m# Permute dimensions from HxWxC to CxHxW\u001b[39;00m\n\u001b[1;32m---> 38\u001b[0m image \u001b[38;5;241m=\u001b[39m \u001b[43mimage\u001b[49m\u001b[38;5;241;43m.\u001b[39;49m\u001b[43mpermute\u001b[49m\u001b[43m(\u001b[49m\u001b[38;5;241;43m2\u001b[39;49m\u001b[43m,\u001b[49m\u001b[43m \u001b[49m\u001b[38;5;241;43m0\u001b[39;49m\u001b[43m,\u001b[49m\u001b[43m \u001b[49m\u001b[38;5;241;43m1\u001b[39;49m\u001b[43m)\u001b[49m\n\u001b[0;32m     40\u001b[0m \u001b[38;5;28;01mif\u001b[39;00m \u001b[38;5;28mself\u001b[39m\u001b[38;5;241m.\u001b[39mtransform:\n\u001b[0;32m     41\u001b[0m     image \u001b[38;5;241m=\u001b[39m \u001b[38;5;28mself\u001b[39m\u001b[38;5;241m.\u001b[39mtransform(image)\n",
      "\u001b[1;31mRuntimeError\u001b[0m: permute(sparse_coo): number of dimensions in the tensor input does not match the length of the desired ordering of dimensions i.e. input.dim() = 2 is not equal to len(dims) = 3"
     ]
    }
   ],
   "source": [
    "image_dataset[0]"
   ]
  },
  {
   "cell_type": "code",
   "execution_count": null,
   "id": "332d829a",
   "metadata": {},
   "outputs": [],
   "source": []
  }
 ],
 "metadata": {
  "kernelspec": {
   "display_name": "mlStuff",
   "language": "python",
   "name": "python3"
  },
  "language_info": {
   "codemirror_mode": {
    "name": "ipython",
    "version": 3
   },
   "file_extension": ".py",
   "mimetype": "text/x-python",
   "name": "python",
   "nbconvert_exporter": "python",
   "pygments_lexer": "ipython3",
   "version": "3.12.3"
  }
 },
 "nbformat": 4,
 "nbformat_minor": 5
}
